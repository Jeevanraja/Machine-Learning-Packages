{
 "cells": [
  {
   "cell_type": "markdown",
   "metadata": {},
   "source": [
    "##Mutilple Liner Model packages Fit and Predict"
   ]
  },
  {
   "cell_type": "code",
   "execution_count": null,
   "metadata": {},
   "outputs": [],
   "source": [
    "from jeelinmodel import linrepac\n",
    "from jeelinmodel import lasorepac\n",
    "from jeelinmodel import ridgerepac\n",
    "from jeelinmodel import elasticrepac\n",
    "from jeelinmodel import linear_data_process\n",
    "from jeelinmodel import linpredict"
   ]
  },
  {
   "cell_type": "code",
   "execution_count": null,
   "metadata": {},
   "outputs": [],
   "source": [
    "# get sample data ---FINAL X,y \n",
    "\n",
    "X,y,X_test,y_test = linear_data_process.liner_get_data()"
   ]
  },
  {
   "cell_type": "code",
   "execution_count": null,
   "metadata": {},
   "outputs": [],
   "source": [
    "### u can change the parameters (eta,ineteration,lmda_l1,lmda_l2)\n",
    "elasticrepac.elasticfit(X,y,eta=0.0001,iteration=1000,lmda_l1=0,lmda_l2=0) \n",
    "linrepac.linfit(X,y,eta=0.0001,iteration=1000)\n",
    "lasorepac.lasofit(X,y)\n",
    "ridgerepac.ridgefit(X,y)"
   ]
  },
  {
   "cell_type": "code",
   "execution_count": null,
   "metadata": {},
   "outputs": [],
   "source": [
    "#get fit\n",
    "fit= linrepac.linfit(X,y,eta=0.0001,iteration=1000)\n",
    "fit= lasorepac.lasofit(X,y)\n",
    "fit= ridgerepac.ridgefit(X,y)\n",
    "fit= elasticrepac.elasticfit(X,y,eta=0.0001,iteration=1000,lmda_l1=10,lmda_l2=10)"
   ]
  },
  {
   "cell_type": "code",
   "execution_count": null,
   "metadata": {},
   "outputs": [],
   "source": [
    "# prediction\n",
    "linpredict.linpredict(fit,X_test,y_test)"
   ]
  },
  {
   "cell_type": "code",
   "execution_count": null,
   "metadata": {},
   "outputs": [],
   "source": []
  },
  {
   "cell_type": "markdown",
   "metadata": {},
   "source": [
    "##Logistic Regression (Multicalssification and binary) Model packages Fit and Predict"
   ]
  },
  {
   "cell_type": "code",
   "execution_count": null,
   "metadata": {},
   "outputs": [],
   "source": [
    "from jeelogimodel import logic_data_process\n",
    "from jeelogimodel import logipac\n",
    "from jeelogimodel import laso_logi_pac\n",
    "from jeelogimodel import ridge_logi_pac\n",
    "from jeelogimodel import elastic_logi_pac\n",
    "from jeelogimodel import logipredict"
   ]
  },
  {
   "cell_type": "code",
   "execution_count": null,
   "metadata": {},
   "outputs": [],
   "source": [
    "# get sample data ---FINAL X,Y,y  ( including Y encoding )\n",
    "logic_data_process.logic_get_data()\n",
    "X,Y,y,X_test,Y_test,y_test = logic_data_process.logic_get_data()"
   ]
  },
  {
   "cell_type": "code",
   "execution_count": null,
   "metadata": {},
   "outputs": [],
   "source": [
    "### u can change the parameters (eta,ineteration,lmda_l1,lmda_l2)\n",
    "elastic_logi_pac.elasticlogifit(X,Y,y,eta=0.0001,epochs=1000,lamda1=0,lamda2=0)\n",
    "logipac.logifit(X,Y,y)\n",
    "ridge_logi_pac.ridgelogifit(X,Y,y)\n",
    "laso_logi_pac.lasologifit(X,Y,y)"
   ]
  },
  {
   "cell_type": "code",
   "execution_count": null,
   "metadata": {},
   "outputs": [],
   "source": [
    "#get fit\n",
    "fit=elastic_logi_pac.elasticlogifit(X,Y,y,eta=0.0001,epochs=1000,lamda1=0,lamda2=0)\n",
    "fit=logipac.logifit(X,Y,y)\n",
    "fit=ridge_logi_pac.ridgelogifit(X,Y,y)\n",
    "fit=laso_logi_pac.lasologifit(X,Y,y)"
   ]
  },
  {
   "cell_type": "code",
   "execution_count": null,
   "metadata": {},
   "outputs": [],
   "source": [
    "# prediction\n",
    "logipredict.logipredict(fit,X_test,y_test)"
   ]
  }
 ],
 "metadata": {
  "kernelspec": {
   "display_name": "Python 3",
   "language": "python",
   "name": "python3"
  },
  "language_info": {
   "codemirror_mode": {
    "name": "ipython",
    "version": 3
   },
   "file_extension": ".py",
   "mimetype": "text/x-python",
   "name": "python",
   "nbconvert_exporter": "python",
   "pygments_lexer": "ipython3",
   "version": "3.6.4"
  }
 },
 "nbformat": 4,
 "nbformat_minor": 2
}
